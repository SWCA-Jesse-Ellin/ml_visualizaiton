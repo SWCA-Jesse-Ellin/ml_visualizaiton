{
 "cells": [
  {
   "cell_type": "code",
   "execution_count": 1,
   "id": "8c48064f",
   "metadata": {},
   "outputs": [],
   "source": [
    "from sklearn.svm import SVC\n",
    "from sklearn.linear_model import Perceptron, SGDClassifier, PassiveAggressiveClassifier\n",
    "from sklearn.model_selection import GridSearchCV, train_test_split\n",
    "from sklearn.metrics import classification_report, confusion_matrix, plot_confusion_matrix\n",
    "import numpy as np"
   ]
  },
  {
   "cell_type": "code",
   "execution_count": 2,
   "id": "81f8ade3",
   "metadata": {},
   "outputs": [],
   "source": [
    "label_file = open(\"labels.txt\", 'r')\n",
    "embed_file = open(\"embeddings.txt\", 'r')"
   ]
  },
  {
   "cell_type": "code",
   "execution_count": 3,
   "id": "7f46f03e",
   "metadata": {},
   "outputs": [],
   "source": [
    "param_grid = {'C': [0.1, 1, 10, 1e2, 1e3],\n",
    "              'gamma': [10, 100, 1000], }\n",
    "clf = SVC(kernel=\"rbf\", class_weight=\"balanced\", verbose=True)"
   ]
  },
  {
   "cell_type": "code",
   "execution_count": 4,
   "id": "054ecf9f",
   "metadata": {},
   "outputs": [
    {
     "name": "stdout",
     "output_type": "stream",
     "text": [
      "Training...\n",
      "Fitting 2 folds for each of 15 candidates, totalling 30 fits\n",
      "[CV 1/2; 1/15] START C=0.1, gamma=10............................................\n",
      "[LibSVM][CV 1/2; 1/15] END .............C=0.1, gamma=10;, score=0.818 total time=   9.8s\n",
      "[CV 2/2; 1/15] START C=0.1, gamma=10............................................\n",
      "[LibSVM][CV 2/2; 1/15] END .............C=0.1, gamma=10;, score=0.838 total time=  10.0s\n",
      "[CV 1/2; 2/15] START C=0.1, gamma=100...........................................\n",
      "[LibSVM][CV 1/2; 2/15] END ............C=0.1, gamma=100;, score=0.939 total time=  10.3s\n",
      "[CV 2/2; 2/15] START C=0.1, gamma=100...........................................\n",
      "[LibSVM][CV 2/2; 2/15] END ............C=0.1, gamma=100;, score=0.943 total time=  10.3s\n",
      "[CV 1/2; 3/15] START C=0.1, gamma=1000..........................................\n",
      "[LibSVM][CV 1/2; 3/15] END ...........C=0.1, gamma=1000;, score=0.960 total time=  11.2s\n",
      "[CV 2/2; 3/15] START C=0.1, gamma=1000..........................................\n",
      "[LibSVM][CV 2/2; 3/15] END ...........C=0.1, gamma=1000;, score=0.964 total time=  11.3s\n",
      "[CV 1/2; 4/15] START C=1, gamma=10..............................................\n",
      "[LibSVM][CV 1/2; 4/15] END ...............C=1, gamma=10;, score=0.859 total time=   4.7s\n",
      "[CV 2/2; 4/15] START C=1, gamma=10..............................................\n",
      "[LibSVM][CV 2/2; 4/15] END ...............C=1, gamma=10;, score=0.875 total time=   4.1s\n",
      "[CV 1/2; 5/15] START C=1, gamma=100.............................................\n",
      "[LibSVM][CV 1/2; 5/15] END ..............C=1, gamma=100;, score=0.933 total time=   6.1s\n",
      "[CV 2/2; 5/15] START C=1, gamma=100.............................................\n",
      "[LibSVM][CV 2/2; 5/15] END ..............C=1, gamma=100;, score=0.942 total time=   6.2s\n",
      "[CV 1/2; 6/15] START C=1, gamma=1000............................................\n",
      "[LibSVM][CV 1/2; 6/15] END .............C=1, gamma=1000;, score=0.957 total time=  10.3s\n",
      "[CV 2/2; 6/15] START C=1, gamma=1000............................................\n",
      "[LibSVM][CV 2/2; 6/15] END .............C=1, gamma=1000;, score=0.962 total time=  10.0s\n",
      "[CV 1/2; 7/15] START C=10, gamma=10.............................................\n",
      "[LibSVM][CV 1/2; 7/15] END ..............C=10, gamma=10;, score=0.928 total time=   2.8s\n",
      "[CV 2/2; 7/15] START C=10, gamma=10.............................................\n",
      "[LibSVM][CV 2/2; 7/15] END ..............C=10, gamma=10;, score=0.937 total time=   2.7s\n",
      "[CV 1/2; 8/15] START C=10, gamma=100............................................\n",
      "[LibSVM][CV 1/2; 8/15] END .............C=10, gamma=100;, score=0.950 total time=   5.9s\n",
      "[CV 2/2; 8/15] START C=10, gamma=100............................................\n",
      "[LibSVM][CV 2/2; 8/15] END .............C=10, gamma=100;, score=0.957 total time=   6.4s\n",
      "[CV 1/2; 9/15] START C=10, gamma=1000...........................................\n",
      "[LibSVM][CV 1/2; 9/15] END ............C=10, gamma=1000;, score=0.959 total time=  10.1s\n",
      "[CV 2/2; 9/15] START C=10, gamma=1000...........................................\n",
      "[LibSVM][CV 2/2; 9/15] END ............C=10, gamma=1000;, score=0.964 total time=  10.0s\n",
      "[CV 1/2; 10/15] START C=100.0, gamma=10.........................................\n",
      "[LibSVM][CV 1/2; 10/15] END ..........C=100.0, gamma=10;, score=0.949 total time=   2.2s\n",
      "[CV 2/2; 10/15] START C=100.0, gamma=10.........................................\n",
      "[LibSVM][CV 2/2; 10/15] END ..........C=100.0, gamma=10;, score=0.956 total time=   2.2s\n",
      "[CV 1/2; 11/15] START C=100.0, gamma=100........................................\n",
      "[LibSVM][CV 1/2; 11/15] END .........C=100.0, gamma=100;, score=0.954 total time=   5.3s\n",
      "[CV 2/2; 11/15] START C=100.0, gamma=100........................................\n",
      "[LibSVM][CV 2/2; 11/15] END .........C=100.0, gamma=100;, score=0.961 total time=   5.3s\n",
      "[CV 1/2; 12/15] START C=100.0, gamma=1000.......................................\n",
      "[LibSVM][CV 1/2; 12/15] END ........C=100.0, gamma=1000;, score=0.959 total time=   9.7s\n",
      "[CV 2/2; 12/15] START C=100.0, gamma=1000.......................................\n",
      "[LibSVM][CV 2/2; 12/15] END ........C=100.0, gamma=1000;, score=0.964 total time=  10.4s\n",
      "[CV 1/2; 13/15] START C=1000.0, gamma=10........................................\n",
      "[LibSVM][CV 1/2; 13/15] END .........C=1000.0, gamma=10;, score=0.953 total time=   0.7s\n",
      "[CV 2/2; 13/15] START C=1000.0, gamma=10........................................\n",
      "[LibSVM][CV 2/2; 13/15] END .........C=1000.0, gamma=10;, score=0.961 total time=   1.6s\n",
      "[CV 1/2; 14/15] START C=1000.0, gamma=100.......................................\n",
      "[LibSVM][CV 1/2; 14/15] END ........C=1000.0, gamma=100;, score=0.954 total time=   4.0s\n",
      "[CV 2/2; 14/15] START C=1000.0, gamma=100.......................................\n",
      "[LibSVM][CV 2/2; 14/15] END ........C=1000.0, gamma=100;, score=0.960 total time=   2.1s\n",
      "[CV 1/2; 15/15] START C=1000.0, gamma=1000......................................\n",
      "[LibSVM][CV 1/2; 15/15] END .......C=1000.0, gamma=1000;, score=0.959 total time=  10.4s\n",
      "[CV 2/2; 15/15] START C=1000.0, gamma=1000......................................\n",
      "[LibSVM][CV 2/2; 15/15] END .......C=1000.0, gamma=1000;, score=0.964 total time=  10.4s\n",
      "[LibSVM]Trained!\n"
     ]
    }
   ],
   "source": [
    "predictor = GridSearchCV(clf, param_grid, cv=2, verbose=50)\n",
    "X = np.array([[float(e) for e in line.split(',')] for line in embed_file.read().strip().split('\\n')])\n",
    "l = np.array([int(l) for l in label_file.read().strip().split('\\n')])\n",
    "X_train, X_test, y_train, y_test = train_test_split(X, l, test_size=0.75)\n",
    "print(\"Training...\")\n",
    "predictor.fit(X_train, y_train)\n",
    "print(\"Trained!\")"
   ]
  },
  {
   "cell_type": "code",
   "execution_count": 5,
   "id": "257a8a5f",
   "metadata": {},
   "outputs": [],
   "source": [
    "y_pred = predictor.predict(X_test)"
   ]
  },
  {
   "cell_type": "code",
   "execution_count": 6,
   "id": "33780baf",
   "metadata": {},
   "outputs": [
    {
     "name": "stdout",
     "output_type": "stream",
     "text": [
      "              precision    recall  f1-score   support\n",
      "\n",
      "           0       0.98      0.98      0.98     26034\n",
      "           1       0.64      0.56      0.59      1284\n",
      "\n",
      "    accuracy                           0.96     27318\n",
      "   macro avg       0.81      0.77      0.79     27318\n",
      "weighted avg       0.96      0.96      0.96     27318\n",
      "\n"
     ]
    }
   ],
   "source": [
    "print(classification_report(y_test, y_pred))"
   ]
  },
  {
   "cell_type": "code",
   "execution_count": 7,
   "id": "ee0d4e05",
   "metadata": {},
   "outputs": [
    {
     "name": "stdout",
     "output_type": "stream",
     "text": [
      "[[25630   404]\n",
      " [  571   713]]\n"
     ]
    }
   ],
   "source": [
    "print(confusion_matrix(y_test, y_pred))"
   ]
  },
  {
   "cell_type": "code",
   "execution_count": 8,
   "id": "cfba5cb3",
   "metadata": {},
   "outputs": [
    {
     "data": {
      "text/plain": [
       "<sklearn.metrics._plot.confusion_matrix.ConfusionMatrixDisplay at 0x1d1e6cd0340>"
      ]
     },
     "execution_count": 8,
     "metadata": {},
     "output_type": "execute_result"
    },
    {
     "data": {
      "image/png": "[encoded data removed]",
      "text/plain": [
       "<Figure size 432x288 with 2 Axes>"
      ]
     },
     "metadata": {
      "needs_background": "light"
     },
     "output_type": "display_data"
    }
   ],
   "source": [
    "plot_confusion_matrix(predictor, X_test, y_test)"
   ]
  },
  {
   "cell_type": "markdown",
   "id": "d2066b37",
   "metadata": {},
   "source": [
    "### keras.plot_model"
   ]
  },
  {
   "cell_type": "markdown",
   "id": "27a6a439",
   "metadata": {},
   "source": [
    "### tensorboard"
   ]
  },
  {
   "cell_type": "markdown",
   "id": "fce537d4",
   "metadata": {},
   "source": [
    "### net2vis"
   ]
  },
  {
   "cell_type": "markdown",
   "id": "44e35ca0",
   "metadata": {},
   "source": [
    "### netron"
   ]
  },
  {
   "cell_type": "markdown",
   "id": "9b52b82b",
   "metadata": {},
   "source": [
    "### keras.history"
   ]
  },
  {
   "cell_type": "markdown",
   "id": "d27a26e2",
   "metadata": {},
   "source": [
    "### Activation Maximization"
   ]
  },
  {
   "cell_type": "markdown",
   "id": "808fffcc",
   "metadata": {},
   "source": [
    "### Keract"
   ]
  },
  {
   "cell_type": "code",
   "execution_count": null,
   "id": "f4212c2f",
   "metadata": {},
   "outputs": [],
   "source": []
  }
 ],
 "metadata": {
  "kernelspec": {
   "display_name": "Python 3",
   "language": "python",
   "name": "python3"
  },
  "language_info": {
   "codemirror_mode": {
    "name": "ipython",
    "version": 3
   },
   "file_extension": ".py",
   "mimetype": "text/x-python",
   "name": "python",
   "nbconvert_exporter": "python",
   "pygments_lexer": "ipython3",
   "version": "3.9.5"
  }
 },
 "nbformat": 4,
 "nbformat_minor": 5
}
